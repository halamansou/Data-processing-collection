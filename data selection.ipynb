{
 "cells": [
  {
   "cell_type": "code",
   "execution_count": 4,
   "id": "3d8a6c79-6904-4c0c-bc13-0251b2e82d41",
   "metadata": {},
   "outputs": [
    {
     "name": "stdout",
     "output_type": "stream",
     "text": [
      "(1151, 20)\n",
      "<bound method NDFrame.head of       a  b   c   d   e   f   g   h          I          j          k         l  \\\n",
      "0     1  1  22  22  22  19  18  14  49.895756  17.775994   5.270920  0.771761   \n",
      "1     1  1  24  24  22  18  16  13  57.709936  23.799994   3.325423  0.234185   \n",
      "2     1  1  62  60  59  54  47  33  55.831441  27.993933  12.687485  4.852282   \n",
      "3     1  1  55  53  53  50  43  31  40.467228  18.445954   9.118901  3.079428   \n",
      "4     1  1  44  44  44  41  39  27  18.026254   8.570709   0.410381  0.000000   \n",
      "...  .. ..  ..  ..  ..  ..  ..  ..        ...        ...        ...       ...   \n",
      "1146  1  1  34  34  34  33  31  24   6.071765   0.937472   0.031145  0.003115   \n",
      "1147  1  1  49  49  49  49  45  37  63.197145  27.377668   8.067688  0.979548   \n",
      "1148  1  0  49  48  48  45  43  33  30.461898  13.966980   1.763305  0.137858   \n",
      "1149  1  1  39  36  29  23  13   7  40.525739  12.604947   4.740919  1.077570   \n",
      "1150  1  1   7   7   7   7   7   5  69.423565   7.031843   1.750548  0.046597   \n",
      "\n",
      "             m         n         o         p         q         r  s  outcome  \n",
      "0     0.018632  0.006864  0.003923  0.003923  0.486903  0.100025  1        0  \n",
      "1     0.003903  0.003903  0.003903  0.003903  0.520908  0.144414  0        0  \n",
      "2     1.393889  0.373252  0.041817  0.007744  0.530904  0.128548  0        1  \n",
      "3     0.840261  0.272434  0.007653  0.001531  0.483284  0.114790  0        0  \n",
      "4     0.000000  0.000000  0.000000  0.000000  0.475935  0.123572  0        1  \n",
      "...        ...       ...       ...       ...       ...       ... ..      ...  \n",
      "1146  0.000000  0.000000  0.000000  0.000000  0.537470  0.116795  0        0  \n",
      "1147  0.001552  0.000000  0.000000  0.000000  0.516733  0.124190  0        0  \n",
      "1148  0.011221  0.000000  0.000000  0.000000  0.560632  0.129843  0        0  \n",
      "1149  0.563518  0.326860  0.239568  0.174584  0.485972  0.106690  1        1  \n",
      "1150  0.021180  0.008472  0.000000  0.000000  0.556192  0.088957  0        0  \n",
      "\n",
      "[1151 rows x 20 columns]>\n",
      "confusion matrix [[125  65]\n",
      " [ 24 132]]\n",
      "Accuracy: 0.7427745664739884\n",
      "precition: 0.8461538461538461\n",
      "f1 score: 0.7478753541076488\n",
      "recall: 0.6700507614213198\n"
     ]
    }
   ],
   "source": [
    "\n",
    "\n",
    "import pandas as pd\n",
    "\n",
    "data = pd.read_csv(\"E:\\semester7\\diabetics.csv\")\n",
    "\n",
    "print (data.shape)\n",
    "print (data.head)\n",
    "\n",
    "x=data.drop(\"outcome\",axis=1)\n",
    "y=data['outcome']\n",
    "from sklearn.model_selection import train_test_split\n",
    "\n",
    "\n",
    "X_train, X_test, y_train, y_test = train_test_split(x, y, test_size=0.3) \n",
    "\n",
    "\n",
    "from sklearn import svm\n",
    "clf = svm.SVC(kernel='linear') \n",
    "\n",
    "clf.fit(X_train, y_train)\n",
    "y_pred = clf.predict(X_test)\n",
    "\n",
    "from sklearn.metrics import confusion_matrix\n",
    "\n",
    "conf = confusion_matrix(y_pred,y_test)\n",
    "\n",
    "print('confusion matrix',conf)\n",
    "\n",
    "\n",
    "from sklearn import metrics\n",
    "\n",
    "\n",
    "print(\"Accuracy:\",metrics.accuracy_score(y_test, y_pred))\n",
    "\n",
    "print(\"precition:\",metrics.precision_score(y_test, y_pred))\n",
    "\n",
    "print(\"f1 score:\",metrics.f1_score(y_test, y_pred))\n",
    "\n",
    "print(\"recall:\",metrics.recall_score(y_test, y_pred))\n",
    "\n",
    "\n"
   ]
  },
  {
   "cell_type": "code",
   "execution_count": null,
   "id": "1311ba5e",
   "metadata": {},
   "outputs": [],
   "source": []
  }
 ],
 "metadata": {
  "kernelspec": {
   "display_name": "Python 3 (ipykernel)",
   "language": "python",
   "name": "python3"
  },
  "language_info": {
   "codemirror_mode": {
    "name": "ipython",
    "version": 3
   },
   "file_extension": ".py",
   "mimetype": "text/x-python",
   "name": "python",
   "nbconvert_exporter": "python",
   "pygments_lexer": "ipython3",
   "version": "3.9.12"
  }
 },
 "nbformat": 4,
 "nbformat_minor": 5
}
